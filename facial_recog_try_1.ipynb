{
  "nbformat": 4,
  "nbformat_minor": 0,
  "metadata": {
    "colab": {
      "name": "facial_recog_try_1.ipynb",
      "version": "0.3.2",
      "views": {},
      "default_view": {},
      "provenance": []
    },
    "kernelspec": {
      "name": "python3",
      "display_name": "Python 3"
    }
  },
  "cells": [
    {
      "metadata": {
        "id": "sz1HxIYTMOd9",
        "colab_type": "code",
        "colab": {
          "autoexec": {
            "startup": false,
            "wait_interval": 0
          },
          "base_uri": "https://localhost:8080/",
          "height": 109
        },
        "outputId": "9044759b-55e1-443a-fb86-76b5b03e1fd6",
        "executionInfo": {
          "status": "ok",
          "timestamp": 1529256989353,
          "user_tz": -330,
          "elapsed": 36051,
          "user": {
            "displayName": "ayush gupta",
            "photoUrl": "//lh5.googleusercontent.com/-SmYRJDgC_jI/AAAAAAAAAAI/AAAAAAAACvk/Iqu4XSMC0tM/s50-c-k-no/photo.jpg",
            "userId": "107111856202799795670"
          }
        }
      },
      "cell_type": "code",
      "source": [
        "!apt-get install -y -qq software-properties-common python-software-properties module-init-tools\n",
        "!add-apt-repository -y ppa:alessandro-strada/ppa 2>&1 > /dev/null\n",
        "!apt-get update -qq 2>&1 > /dev/null\n",
        "!apt-get -y install -qq google-drive-ocamlfuse fuse\n",
        "from google.colab import auth\n",
        "auth.authenticate_user()\n",
        "from oauth2client.client import GoogleCredentials\n",
        "creds = GoogleCredentials.get_application_default()\n",
        "import getpass\n",
        "!google-drive-ocamlfuse -headless -id={creds.client_id} -secret={creds.client_secret} < /dev/null 2>&1 | grep URL\n",
        "vcode = getpass.getpass()\n",
        "!echo {vcode} | google-drive-ocamlfuse -headless -id={creds.client_id} -secret={creds.client_secret}"
      ],
      "execution_count": 2,
      "outputs": [
        {
          "output_type": "stream",
          "text": [
            "Please, open the following URL in a web browser: https://accounts.google.com/o/oauth2/auth?client_id=32555940559.apps.googleusercontent.com&redirect_uri=urn%3Aietf%3Awg%3Aoauth%3A2.0%3Aoob&scope=https%3A%2F%2Fwww.googleapis.com%2Fauth%2Fdrive&response_type=code&access_type=offline&approval_prompt=force\r\n",
            "··········\n",
            "Please, open the following URL in a web browser: https://accounts.google.com/o/oauth2/auth?client_id=32555940559.apps.googleusercontent.com&redirect_uri=urn%3Aietf%3Awg%3Aoauth%3A2.0%3Aoob&scope=https%3A%2F%2Fwww.googleapis.com%2Fauth%2Fdrive&response_type=code&access_type=offline&approval_prompt=force\n",
            "Please enter the verification code: Access token retrieved correctly.\n"
          ],
          "name": "stdout"
        }
      ]
    },
    {
      "metadata": {
        "id": "ZBP2WabkMXF_",
        "colab_type": "code",
        "colab": {
          "autoexec": {
            "startup": false,
            "wait_interval": 0
          }
        }
      },
      "cell_type": "code",
      "source": [
        "!mkdir -p drive\n",
        "!google-drive-ocamlfuse drive"
      ],
      "execution_count": 0,
      "outputs": []
    },
    {
      "metadata": {
        "id": "xSISyZEjMXIn",
        "colab_type": "code",
        "colab": {
          "autoexec": {
            "startup": false,
            "wait_interval": 0
          },
          "base_uri": "https://localhost:8080/",
          "height": 71
        },
        "outputId": "c75ae213-eaae-4198-953c-bbeabe98effd",
        "executionInfo": {
          "status": "ok",
          "timestamp": 1529257001286,
          "user_tz": -330,
          "elapsed": 4181,
          "user": {
            "displayName": "ayush gupta",
            "photoUrl": "//lh5.googleusercontent.com/-SmYRJDgC_jI/AAAAAAAAAAI/AAAAAAAACvk/Iqu4XSMC0tM/s50-c-k-no/photo.jpg",
            "userId": "107111856202799795670"
          }
        }
      },
      "cell_type": "code",
      "source": [
        "!ls ./drive/datasets/facial_recog"
      ],
      "execution_count": 4,
      "outputs": [
        {
          "output_type": "stream",
          "text": [
            "facial_recog_model1.h5\tnp_arrays_test_y.npy   np_array_train_x.npy\r\n",
            "facial_recog_model.h5\tnp_arrays_train_y.npy\r\n",
            "fer2013.csv\t\tnp_array_test_x.npy\r\n"
          ],
          "name": "stdout"
        }
      ]
    },
    {
      "metadata": {
        "id": "U9CjcxfNMXLH",
        "colab_type": "code",
        "colab": {
          "autoexec": {
            "startup": false,
            "wait_interval": 0
          }
        }
      },
      "cell_type": "code",
      "source": [
        "#https://www.kaggle.com/c/3364/download/fer2013.tar.gz"
      ],
      "execution_count": 0,
      "outputs": []
    },
    {
      "metadata": {
        "id": "ayhoH5FuBn4f",
        "colab_type": "text"
      },
      "cell_type": "markdown",
      "source": [
        " **Download dataset from **>> ***https://www.kaggle.com/c/3364/download/fer2013.tar.gz***"
      ]
    },
    {
      "metadata": {
        "id": "0zim6S6uMXOT",
        "colab_type": "code",
        "colab": {
          "autoexec": {
            "startup": false,
            "wait_interval": 0
          }
        }
      },
      "cell_type": "code",
      "source": [
        "#importing dependecies to create dataset\n",
        "import pandas as pd\n",
        "import numpy as np\n",
        "import seaborn as sn\n",
        "import matplotlib.pyplot as plt\n"
      ],
      "execution_count": 0,
      "outputs": []
    },
    {
      "metadata": {
        "id": "KzgNKhXgMXR-",
        "colab_type": "code",
        "colab": {
          "autoexec": {
            "startup": false,
            "wait_interval": 0
          }
        }
      },
      "cell_type": "code",
      "source": [
        "# Reading data from csv\n",
        "data= pd.read_csv(\"./drive/datasets/facial_recog/fer2013.csv\")"
      ],
      "execution_count": 0,
      "outputs": []
    },
    {
      "metadata": {
        "id": "59S-tdUueL3-",
        "colab_type": "code",
        "colab": {
          "autoexec": {
            "startup": false,
            "wait_interval": 0
          },
          "base_uri": "https://localhost:8080/",
          "height": 204
        },
        "outputId": "a80cc0af-af27-4073-8b88-7905f6b59556",
        "executionInfo": {
          "status": "ok",
          "timestamp": 1528999531742,
          "user_tz": -330,
          "elapsed": 1188,
          "user": {
            "displayName": "ayush gupta",
            "photoUrl": "//lh5.googleusercontent.com/-SmYRJDgC_jI/AAAAAAAAAAI/AAAAAAAACvk/Iqu4XSMC0tM/s50-c-k-no/photo.jpg",
            "userId": "107111856202799795670"
          }
        }
      },
      "cell_type": "code",
      "source": [
        "data.head()"
      ],
      "execution_count": 8,
      "outputs": [
        {
          "output_type": "execute_result",
          "data": {
            "text/html": [
              "<div>\n",
              "<style scoped>\n",
              "    .dataframe tbody tr th:only-of-type {\n",
              "        vertical-align: middle;\n",
              "    }\n",
              "\n",
              "    .dataframe tbody tr th {\n",
              "        vertical-align: top;\n",
              "    }\n",
              "\n",
              "    .dataframe thead th {\n",
              "        text-align: right;\n",
              "    }\n",
              "</style>\n",
              "<table border=\"1\" class=\"dataframe\">\n",
              "  <thead>\n",
              "    <tr style=\"text-align: right;\">\n",
              "      <th></th>\n",
              "      <th>emotion</th>\n",
              "      <th>pixels</th>\n",
              "      <th>Usage</th>\n",
              "    </tr>\n",
              "  </thead>\n",
              "  <tbody>\n",
              "    <tr>\n",
              "      <th>0</th>\n",
              "      <td>0</td>\n",
              "      <td>70 80 82 72 58 58 60 63 54 58 60 48 89 115 121...</td>\n",
              "      <td>Training</td>\n",
              "    </tr>\n",
              "    <tr>\n",
              "      <th>1</th>\n",
              "      <td>0</td>\n",
              "      <td>151 150 147 155 148 133 111 140 170 174 182 15...</td>\n",
              "      <td>Training</td>\n",
              "    </tr>\n",
              "    <tr>\n",
              "      <th>2</th>\n",
              "      <td>2</td>\n",
              "      <td>231 212 156 164 174 138 161 173 182 200 106 38...</td>\n",
              "      <td>Training</td>\n",
              "    </tr>\n",
              "    <tr>\n",
              "      <th>3</th>\n",
              "      <td>4</td>\n",
              "      <td>24 32 36 30 32 23 19 20 30 41 21 22 32 34 21 1...</td>\n",
              "      <td>Training</td>\n",
              "    </tr>\n",
              "    <tr>\n",
              "      <th>4</th>\n",
              "      <td>6</td>\n",
              "      <td>4 0 0 0 0 0 0 0 0 0 0 0 3 15 23 28 48 50 58 84...</td>\n",
              "      <td>Training</td>\n",
              "    </tr>\n",
              "  </tbody>\n",
              "</table>\n",
              "</div>"
            ],
            "text/plain": [
              "   emotion                                             pixels     Usage\n",
              "0        0  70 80 82 72 58 58 60 63 54 58 60 48 89 115 121...  Training\n",
              "1        0  151 150 147 155 148 133 111 140 170 174 182 15...  Training\n",
              "2        2  231 212 156 164 174 138 161 173 182 200 106 38...  Training\n",
              "3        4  24 32 36 30 32 23 19 20 30 41 21 22 32 34 21 1...  Training\n",
              "4        6  4 0 0 0 0 0 0 0 0 0 0 0 3 15 23 28 48 50 58 84...  Training"
            ]
          },
          "metadata": {
            "tags": []
          },
          "execution_count": 8
        }
      ]
    },
    {
      "metadata": {
        "id": "KxhCmHuuh0Fm",
        "colab_type": "text"
      },
      "cell_type": "markdown",
      "source": [
        "***There are seven categories (0=Angry, 1=Disgust, 2=Fear, 3=Happy, 4=Sad, 5=Surprise, 6=Neutral).***"
      ]
    },
    {
      "metadata": {
        "id": "I76xsmWpeMC_",
        "colab_type": "code",
        "colab": {
          "autoexec": {
            "startup": false,
            "wait_interval": 0
          },
          "base_uri": "https://localhost:8080/",
          "height": 35
        },
        "outputId": "197d3053-e637-4883-81ad-abb66d034aa0",
        "executionInfo": {
          "status": "ok",
          "timestamp": 1528999576702,
          "user_tz": -330,
          "elapsed": 2214,
          "user": {
            "displayName": "ayush gupta",
            "photoUrl": "//lh5.googleusercontent.com/-SmYRJDgC_jI/AAAAAAAAAAI/AAAAAAAACvk/Iqu4XSMC0tM/s50-c-k-no/photo.jpg",
            "userId": "107111856202799795670"
          }
        }
      },
      "cell_type": "code",
      "source": [
        "# Gives all unique value of the emotion\n",
        "data[\"emotion\"].unique()"
      ],
      "execution_count": 9,
      "outputs": [
        {
          "output_type": "execute_result",
          "data": {
            "text/plain": [
              "array([0, 2, 4, 6, 3, 5, 1])"
            ]
          },
          "metadata": {
            "tags": []
          },
          "execution_count": 9
        }
      ]
    },
    {
      "metadata": {
        "id": "QDt9ZgaDMXUn",
        "colab_type": "code",
        "colab": {
          "autoexec": {
            "startup": false,
            "wait_interval": 0
          },
          "base_uri": "https://localhost:8080/",
          "height": 35
        },
        "outputId": "81c17352-e2e8-4171-91ef-a6f9743f15ab",
        "executionInfo": {
          "status": "ok",
          "timestamp": 1528999601228,
          "user_tz": -330,
          "elapsed": 1058,
          "user": {
            "displayName": "ayush gupta",
            "photoUrl": "//lh5.googleusercontent.com/-SmYRJDgC_jI/AAAAAAAAAAI/AAAAAAAACvk/Iqu4XSMC0tM/s50-c-k-no/photo.jpg",
            "userId": "107111856202799795670"
          }
        }
      },
      "cell_type": "code",
      "source": [
        "# Gives all unique value of the Usage\n",
        "data[\"Usage\"].unique()"
      ],
      "execution_count": 10,
      "outputs": [
        {
          "output_type": "execute_result",
          "data": {
            "text/plain": [
              "array(['Training', 'PublicTest', 'PrivateTest'], dtype=object)"
            ]
          },
          "metadata": {
            "tags": []
          },
          "execution_count": 10
        }
      ]
    },
    {
      "metadata": {
        "id": "D42x_le7ehYx",
        "colab_type": "code",
        "colab": {
          "autoexec": {
            "startup": false,
            "wait_interval": 0
          },
          "base_uri": "https://localhost:8080/",
          "height": 89
        },
        "outputId": "ba8cb425-6195-4dc5-8cd7-93bf6af7d7d2",
        "executionInfo": {
          "status": "ok",
          "timestamp": 1529007089804,
          "user_tz": -330,
          "elapsed": 1248,
          "user": {
            "displayName": "ayush gupta",
            "photoUrl": "//lh5.googleusercontent.com/-SmYRJDgC_jI/AAAAAAAAAAI/AAAAAAAACvk/Iqu4XSMC0tM/s50-c-k-no/photo.jpg",
            "userId": "107111856202799795670"
          }
        }
      },
      "cell_type": "code",
      "source": [
        "# To check any missing values\n",
        "data.isnull().sum()"
      ],
      "execution_count": 61,
      "outputs": [
        {
          "output_type": "execute_result",
          "data": {
            "text/plain": [
              "emotion    0\n",
              "pixels     0\n",
              "Usage      0\n",
              "dtype: int64"
            ]
          },
          "metadata": {
            "tags": []
          },
          "execution_count": 61
        }
      ]
    },
    {
      "metadata": {
        "id": "wsQeWG6OehRM",
        "colab_type": "code",
        "colab": {
          "autoexec": {
            "startup": false,
            "wait_interval": 0
          },
          "base_uri": "https://localhost:8080/",
          "height": 89
        },
        "outputId": "7a4b977a-bd0c-4827-8f39-45abb4ce7e6e",
        "executionInfo": {
          "status": "ok",
          "timestamp": 1529007088461,
          "user_tz": -330,
          "elapsed": 1062,
          "user": {
            "displayName": "ayush gupta",
            "photoUrl": "//lh5.googleusercontent.com/-SmYRJDgC_jI/AAAAAAAAAAI/AAAAAAAACvk/Iqu4XSMC0tM/s50-c-k-no/photo.jpg",
            "userId": "107111856202799795670"
          }
        }
      },
      "cell_type": "code",
      "source": [
        "# To check how the dataset is divided into various categories\n",
        "data[\"Usage\"].value_counts()"
      ],
      "execution_count": 60,
      "outputs": [
        {
          "output_type": "execute_result",
          "data": {
            "text/plain": [
              "Training       28709\n",
              "PublicTest      3589\n",
              "PrivateTest     3589\n",
              "Name: Usage, dtype: int64"
            ]
          },
          "metadata": {
            "tags": []
          },
          "execution_count": 60
        }
      ]
    },
    {
      "metadata": {
        "id": "ZaGrrUgkJr3N",
        "colab_type": "text"
      },
      "cell_type": "markdown",
      "source": [
        "**Creating the Traing data set**"
      ]
    },
    {
      "metadata": {
        "id": "eunboncWC_oa",
        "colab_type": "code",
        "colab": {
          "autoexec": {
            "startup": false,
            "wait_interval": 0
          }
        }
      },
      "cell_type": "code",
      "source": [
        "train = data[[\"emotion\", \"pixels\"]][data[\"Usage\"]==\"Training\"]"
      ],
      "execution_count": 0,
      "outputs": []
    },
    {
      "metadata": {
        "id": "HI3FtnL-E6zJ",
        "colab_type": "code",
        "colab": {
          "autoexec": {
            "startup": false,
            "wait_interval": 0
          }
        }
      },
      "cell_type": "code",
      "source": [
        "train[\"pixels\"] = train[\"pixels\"].apply(lambda x: np.array([int(p) for p in x.split()]))"
      ],
      "execution_count": 0,
      "outputs": []
    },
    {
      "metadata": {
        "id": "VKNoJw9zIe7y",
        "colab_type": "code",
        "colab": {
          "autoexec": {
            "startup": false,
            "wait_interval": 0
          }
        }
      },
      "cell_type": "code",
      "source": [
        "train_x = np.vstack(train[\"pixels\"].values)"
      ],
      "execution_count": 0,
      "outputs": []
    },
    {
      "metadata": {
        "id": "1OTLETAzJHea",
        "colab_type": "code",
        "colab": {
          "autoexec": {
            "startup": false,
            "wait_interval": 0
          }
        }
      },
      "cell_type": "code",
      "source": [
        "train_y =np.array(train[\"emotion\"].values)"
      ],
      "execution_count": 0,
      "outputs": []
    },
    {
      "metadata": {
        "id": "HUmCYPfXJ_y-",
        "colab_type": "code",
        "colab": {
          "autoexec": {
            "startup": false,
            "wait_interval": 0
          },
          "base_uri": "https://localhost:8080/",
          "height": 107
        },
        "outputId": "1aa311a7-bb18-49fc-9e30-553b0cb8bba8",
        "executionInfo": {
          "status": "ok",
          "timestamp": 1529010989577,
          "user_tz": -330,
          "elapsed": 1259,
          "user": {
            "displayName": "ayush gupta",
            "photoUrl": "//lh5.googleusercontent.com/-SmYRJDgC_jI/AAAAAAAAAAI/AAAAAAAACvk/Iqu4XSMC0tM/s50-c-k-no/photo.jpg",
            "userId": "107111856202799795670"
          }
        }
      },
      "cell_type": "code",
      "source": [
        "train_x[:5]"
      ],
      "execution_count": 79,
      "outputs": [
        {
          "output_type": "execute_result",
          "data": {
            "text/plain": [
              "array([[ 70,  80,  82, ..., 106, 109,  82],\n",
              "       [151, 150, 147, ..., 193, 183, 184],\n",
              "       [231, 212, 156, ...,  88, 110, 152],\n",
              "       [ 24,  32,  36, ..., 142, 143, 142],\n",
              "       [  4,   0,   0, ...,  30,  29,  30]])"
            ]
          },
          "metadata": {
            "tags": []
          },
          "execution_count": 79
        }
      ]
    },
    {
      "metadata": {
        "id": "X4o5_8lyJbdM",
        "colab_type": "code",
        "colab": {
          "autoexec": {
            "startup": false,
            "wait_interval": 0
          },
          "base_uri": "https://localhost:8080/",
          "height": 35
        },
        "outputId": "9e5a469b-f18c-4e71-8008-b48958bf9e0f",
        "executionInfo": {
          "status": "ok",
          "timestamp": 1529010838534,
          "user_tz": -330,
          "elapsed": 1494,
          "user": {
            "displayName": "ayush gupta",
            "photoUrl": "//lh5.googleusercontent.com/-SmYRJDgC_jI/AAAAAAAAAAI/AAAAAAAACvk/Iqu4XSMC0tM/s50-c-k-no/photo.jpg",
            "userId": "107111856202799795670"
          }
        }
      },
      "cell_type": "code",
      "source": [
        "train_y[:5]"
      ],
      "execution_count": 78,
      "outputs": [
        {
          "output_type": "execute_result",
          "data": {
            "text/plain": [
              "array([0, 0, 2, 4, 6])"
            ]
          },
          "metadata": {
            "tags": []
          },
          "execution_count": 78
        }
      ]
    },
    {
      "metadata": {
        "id": "952Pts68TZkT",
        "colab_type": "code",
        "colab": {
          "autoexec": {
            "startup": false,
            "wait_interval": 0
          },
          "base_uri": "https://localhost:8080/",
          "height": 35
        },
        "outputId": "8106fa52-d68e-4ee3-d3b1-5b7eb22f7c2f",
        "executionInfo": {
          "status": "ok",
          "timestamp": 1529013497067,
          "user_tz": -330,
          "elapsed": 6884,
          "user": {
            "displayName": "ayush gupta",
            "photoUrl": "//lh5.googleusercontent.com/-SmYRJDgC_jI/AAAAAAAAAAI/AAAAAAAACvk/Iqu4XSMC0tM/s50-c-k-no/photo.jpg",
            "userId": "107111856202799795670"
          }
        }
      },
      "cell_type": "code",
      "source": [
        "from keras.utils import np_utils\n",
        "\n",
        "train_y = np_utils.to_categorical(train_y)"
      ],
      "execution_count": 108,
      "outputs": [
        {
          "output_type": "stream",
          "text": [
            "Using TensorFlow backend.\n"
          ],
          "name": "stderr"
        }
      ]
    },
    {
      "metadata": {
        "id": "v9_1lYNJzdYo",
        "colab_type": "code",
        "colab": {
          "autoexec": {
            "startup": false,
            "wait_interval": 0
          }
        }
      },
      "cell_type": "code",
      "source": [
        "train_x=train_x.reshape(-1,48,48,1)"
      ],
      "execution_count": 0,
      "outputs": []
    },
    {
      "metadata": {
        "id": "XCrdd0zx2WZc",
        "colab_type": "code",
        "colab": {
          "autoexec": {
            "startup": false,
            "wait_interval": 0
          },
          "base_uri": "https://localhost:8080/",
          "height": 35
        },
        "outputId": "6543ba9e-23e6-497d-962f-f71394f47e9a",
        "executionInfo": {
          "status": "ok",
          "timestamp": 1529011956866,
          "user_tz": -330,
          "elapsed": 1348,
          "user": {
            "displayName": "ayush gupta",
            "photoUrl": "//lh5.googleusercontent.com/-SmYRJDgC_jI/AAAAAAAAAAI/AAAAAAAACvk/Iqu4XSMC0tM/s50-c-k-no/photo.jpg",
            "userId": "107111856202799795670"
          }
        }
      },
      "cell_type": "code",
      "source": [
        "train_x.shape"
      ],
      "execution_count": 89,
      "outputs": [
        {
          "output_type": "execute_result",
          "data": {
            "text/plain": [
              "(28709, 48, 48, 1)"
            ]
          },
          "metadata": {
            "tags": []
          },
          "execution_count": 89
        }
      ]
    },
    {
      "metadata": {
        "id": "S4fUS85LvkmD",
        "colab_type": "code",
        "colab": {
          "autoexec": {
            "startup": false,
            "wait_interval": 0
          },
          "base_uri": "https://localhost:8080/",
          "height": 213
        },
        "outputId": "6df81cc2-14fa-4670-a159-2fa5badb3051",
        "executionInfo": {
          "status": "ok",
          "timestamp": 1529013417247,
          "user_tz": -330,
          "elapsed": 1363,
          "user": {
            "displayName": "ayush gupta",
            "photoUrl": "//lh5.googleusercontent.com/-SmYRJDgC_jI/AAAAAAAAAAI/AAAAAAAACvk/Iqu4XSMC0tM/s50-c-k-no/photo.jpg",
            "userId": "107111856202799795670"
          }
        }
      },
      "cell_type": "code",
      "source": [
        "import seaborn as sns\n",
        "\n",
        "plt.figure(0, figsize=(3,3))\n",
        "plt.imshow(train_x[1,:,:,0],cmap=\"gray\")\n",
        "plt.show()"
      ],
      "execution_count": 107,
      "outputs": [
        {
          "output_type": "display_data",
          "data": {
            "image/png": "[encoded data removed]",
            "text/plain": [
              "<matplotlib.figure.Figure at 0x7f6e1d56f0b8>"
            ]
          },
          "metadata": {
            "tags": []
          }
        }
      ]
    },
    {
      "metadata": {
        "id": "MAe63cxOKD4L",
        "colab_type": "text"
      },
      "cell_type": "markdown",
      "source": [
        "**Creating the Testing data set**"
      ]
    },
    {
      "metadata": {
        "id": "XB64JJ3CLNra",
        "colab_type": "code",
        "colab": {
          "autoexec": {
            "startup": false,
            "wait_interval": 0
          }
        }
      },
      "cell_type": "code",
      "source": [
        "test = data[[\"emotion\", \"pixels\"]][data[\"Usage\"]==\"PublicTest\"]"
      ],
      "execution_count": 0,
      "outputs": []
    },
    {
      "metadata": {
        "id": "3CGIixYgLNt_",
        "colab_type": "code",
        "colab": {
          "autoexec": {
            "startup": false,
            "wait_interval": 0
          }
        }
      },
      "cell_type": "code",
      "source": [
        "test[\"pixels\"] = test[\"pixels\"].apply(lambda x: np.array([int(p) for p in x.split()]))"
      ],
      "execution_count": 0,
      "outputs": []
    },
    {
      "metadata": {
        "id": "pvU6SUbPLNww",
        "colab_type": "code",
        "colab": {
          "autoexec": {
            "startup": false,
            "wait_interval": 0
          }
        }
      },
      "cell_type": "code",
      "source": [
        "test_x = np.vstack(test[\"pixels\"].values)"
      ],
      "execution_count": 0,
      "outputs": []
    },
    {
      "metadata": {
        "id": "a-0wHKVhLNze",
        "colab_type": "code",
        "colab": {
          "autoexec": {
            "startup": false,
            "wait_interval": 0
          }
        }
      },
      "cell_type": "code",
      "source": [
        "test_y =np.array(test[\"emotion\"].values)"
      ],
      "execution_count": 0,
      "outputs": []
    },
    {
      "metadata": {
        "id": "0kN-itDGMMcE",
        "colab_type": "code",
        "colab": {
          "autoexec": {
            "startup": false,
            "wait_interval": 0
          },
          "base_uri": "https://localhost:8080/",
          "height": 107
        },
        "outputId": "5e9c5fe7-42fa-4fbe-86a4-215789481765",
        "executionInfo": {
          "status": "ok",
          "timestamp": 1529011572212,
          "user_tz": -330,
          "elapsed": 1184,
          "user": {
            "displayName": "ayush gupta",
            "photoUrl": "//lh5.googleusercontent.com/-SmYRJDgC_jI/AAAAAAAAAAI/AAAAAAAACvk/Iqu4XSMC0tM/s50-c-k-no/photo.jpg",
            "userId": "107111856202799795670"
          }
        }
      },
      "cell_type": "code",
      "source": [
        "test_x[:5]"
      ],
      "execution_count": 84,
      "outputs": [
        {
          "output_type": "execute_result",
          "data": {
            "text/plain": [
              "array([[254, 254, 254, ...,  42, 129, 180],\n",
              "       [156, 184, 198, ..., 172, 167, 161],\n",
              "       [ 69, 118,  61, ...,  88,  87,  90],\n",
              "       [205, 203, 236, ...,  43,  82,  86],\n",
              "       [ 87,  79,  74, ...,  41,  34,  32]])"
            ]
          },
          "metadata": {
            "tags": []
          },
          "execution_count": 84
        }
      ]
    },
    {
      "metadata": {
        "id": "tejI0P2CMMe4",
        "colab_type": "code",
        "colab": {
          "autoexec": {
            "startup": false,
            "wait_interval": 0
          },
          "base_uri": "https://localhost:8080/",
          "height": 35
        },
        "outputId": "48f8d62d-659b-4971-a875-ef88e3fec1ba",
        "executionInfo": {
          "status": "ok",
          "timestamp": 1529011573423,
          "user_tz": -330,
          "elapsed": 1047,
          "user": {
            "displayName": "ayush gupta",
            "photoUrl": "//lh5.googleusercontent.com/-SmYRJDgC_jI/AAAAAAAAAAI/AAAAAAAACvk/Iqu4XSMC0tM/s50-c-k-no/photo.jpg",
            "userId": "107111856202799795670"
          }
        }
      },
      "cell_type": "code",
      "source": [
        "test_y[:5]"
      ],
      "execution_count": 85,
      "outputs": [
        {
          "output_type": "execute_result",
          "data": {
            "text/plain": [
              "array([0, 1, 4, 6, 3])"
            ]
          },
          "metadata": {
            "tags": []
          },
          "execution_count": 85
        }
      ]
    },
    {
      "metadata": {
        "id": "hCReDAt_TosF",
        "colab_type": "code",
        "colab": {
          "autoexec": {
            "startup": false,
            "wait_interval": 0
          }
        }
      },
      "cell_type": "code",
      "source": [
        "from keras.utils import np_utils\n",
        "\n",
        "test_y = np_utils.to_categorical(test_y)"
      ],
      "execution_count": 0,
      "outputs": []
    },
    {
      "metadata": {
        "id": "obgUZMeDN79j",
        "colab_type": "code",
        "colab": {
          "autoexec": {
            "startup": false,
            "wait_interval": 0
          }
        }
      },
      "cell_type": "code",
      "source": [
        "test_x=test_x.reshape(-1,48,48,1)"
      ],
      "execution_count": 0,
      "outputs": []
    },
    {
      "metadata": {
        "id": "P7ivksT9N8n1",
        "colab_type": "code",
        "colab": {
          "autoexec": {
            "startup": false,
            "wait_interval": 0
          },
          "base_uri": "https://localhost:8080/",
          "height": 35
        },
        "outputId": "6d811500-6192-4dad-cbd9-33a4239ae579",
        "executionInfo": {
          "status": "ok",
          "timestamp": 1529012060188,
          "user_tz": -330,
          "elapsed": 1058,
          "user": {
            "displayName": "ayush gupta",
            "photoUrl": "//lh5.googleusercontent.com/-SmYRJDgC_jI/AAAAAAAAAAI/AAAAAAAACvk/Iqu4XSMC0tM/s50-c-k-no/photo.jpg",
            "userId": "107111856202799795670"
          }
        }
      },
      "cell_type": "code",
      "source": [
        "test_x.shape"
      ],
      "execution_count": 91,
      "outputs": [
        {
          "output_type": "execute_result",
          "data": {
            "text/plain": [
              "(3589, 48, 48, 1)"
            ]
          },
          "metadata": {
            "tags": []
          },
          "execution_count": 91
        }
      ]
    },
    {
      "metadata": {
        "id": "BO5WI3COT2C6",
        "colab_type": "text"
      },
      "cell_type": "markdown",
      "source": [
        "**Save the numpy array, to reduce the computation needed for extracting and preprocessing**"
      ]
    },
    {
      "metadata": {
        "id": "MP4SPmyQhPq7",
        "colab_type": "code",
        "colab": {
          "autoexec": {
            "startup": false,
            "wait_interval": 0
          }
        }
      },
      "cell_type": "code",
      "source": [
        "np.save('./drive/datasets/facial_recog/np_array_train_x.npy',train_x)\n",
        "np.save('./drive/datasets/facial_recog/np_arrays_train_y.npy',train_y)\n",
        "\n",
        "np.save('./drive/datasets/facial_recog/np_array_test_x.npy',test_x)\n",
        "np.save('./drive/datasets/facial_recog/np_arrays_test_y.npy',test_y)"
      ],
      "execution_count": 0,
      "outputs": []
    },
    {
      "metadata": {
        "id": "UsMQQBSAUjPm",
        "colab_type": "text"
      },
      "cell_type": "markdown",
      "source": [
        "**Now Numpy array can be loaded from disk and used**"
      ]
    },
    {
      "metadata": {
        "id": "IR8v8GydhPtz",
        "colab_type": "code",
        "colab": {
          "autoexec": {
            "startup": false,
            "wait_interval": 0
          }
        }
      },
      "cell_type": "code",
      "source": [
        "train_x= np.load('./drive/datasets/facial_recog/np_array_train_x.npy')\n",
        "train_y= np.load('./drive/datasets/facial_recog/np_arrays_train_y.npy')\n",
        "\n",
        "test_x= np.load('./drive/datasets/facial_recog/np_array_test_x.npy')\n",
        "test_y= np.load('./drive/datasets/facial_recog/np_arrays_test_y.npy')"
      ],
      "execution_count": 0,
      "outputs": []
    },
    {
      "metadata": {
        "id": "vQAHmZR1hPyU",
        "colab_type": "code",
        "colab": {
          "autoexec": {
            "startup": false,
            "wait_interval": 0
          },
          "base_uri": "https://localhost:8080/",
          "height": 71
        },
        "outputId": "a20d011d-0238-44f5-8dd2-f4ea21ff6923",
        "executionInfo": {
          "status": "ok",
          "timestamp": 1529014365980,
          "user_tz": -330,
          "elapsed": 3013,
          "user": {
            "displayName": "ayush gupta",
            "photoUrl": "//lh5.googleusercontent.com/-SmYRJDgC_jI/AAAAAAAAAAI/AAAAAAAACvk/Iqu4XSMC0tM/s50-c-k-no/photo.jpg",
            "userId": "107111856202799795670"
          }
        }
      },
      "cell_type": "code",
      "source": [
        "! free -m"
      ],
      "execution_count": 7,
      "outputs": [
        {
          "output_type": "stream",
          "text": [
            "              total        used        free      shared  buff/cache   available\r\n",
            "Mem:          13029        1033         460         247       11535       11500\r\n",
            "Swap:             0           0           0\r\n"
          ],
          "name": "stdout"
        }
      ]
    },
    {
      "metadata": {
        "id": "bpgRLQ_MU7bq",
        "colab_type": "text"
      },
      "cell_type": "markdown",
      "source": [
        "***Creating the Model***"
      ]
    },
    {
      "metadata": {
        "id": "oYc8Ba3ThPwt",
        "colab_type": "code",
        "colab": {
          "autoexec": {
            "startup": false,
            "wait_interval": 0
          },
          "base_uri": "https://localhost:8080/",
          "height": 593
        },
        "outputId": "6e6e614d-066a-419e-9096-aba7317dadaa",
        "executionInfo": {
          "status": "ok",
          "timestamp": 1529014374644,
          "user_tz": -330,
          "elapsed": 8645,
          "user": {
            "displayName": "ayush gupta",
            "photoUrl": "//lh5.googleusercontent.com/-SmYRJDgC_jI/AAAAAAAAAAI/AAAAAAAACvk/Iqu4XSMC0tM/s50-c-k-no/photo.jpg",
            "userId": "107111856202799795670"
          }
        }
      },
      "cell_type": "code",
      "source": [
        "from keras.models import Sequential\n",
        "from keras.layers import Dense, Dropout, Flatten, Conv2D, MaxPool2D\n",
        "\n",
        "\n",
        "# Set the CNN model \n",
        "# my CNN architechture is In -> [[Conv2D->relu]*2 -> MaxPool2D -> Dropout]*2 -> Flatten -> Dense -> Dropout -> Out\n",
        "\n",
        "model = Sequential()\n",
        "\n",
        "model.add(Conv2D(filters = 32, kernel_size = (5,5),padding = 'Same', \n",
        "                 activation ='relu', input_shape = (48,48,1)))\n",
        "model.add(Conv2D(filters = 32, kernel_size = (5,5),padding = 'Same', \n",
        "                 activation ='relu'))\n",
        "model.add(MaxPool2D(pool_size=(2,2)))\n",
        "model.add(Dropout(0.25))\n",
        "\n",
        "\n",
        "model.add(Conv2D(filters = 64, kernel_size = (3,3),padding = 'Same', \n",
        "                 activation ='relu'))\n",
        "model.add(Conv2D(filters = 64, kernel_size = (3,3),padding = 'Same', \n",
        "                 activation ='relu'))\n",
        "model.add(MaxPool2D(pool_size=(2,2), strides=(2,2)))\n",
        "model.add(Dropout(0.25))\n",
        "\n",
        "\n",
        "model.add(Flatten())\n",
        "model.add(Dense(256, activation = \"relu\"))\n",
        "model.add(Dropout(0.5))\n",
        "model.add(Dense(7, activation = \"softmax\"))\n",
        "model.summary()"
      ],
      "execution_count": 8,
      "outputs": [
        {
          "output_type": "stream",
          "text": [
            "Using TensorFlow backend.\n"
          ],
          "name": "stderr"
        },
        {
          "output_type": "stream",
          "text": [
            "_________________________________________________________________\n",
            "Layer (type)                 Output Shape              Param #   \n",
            "=================================================================\n",
            "conv2d_1 (Conv2D)            (None, 48, 48, 32)        832       \n",
            "_________________________________________________________________\n",
            "conv2d_2 (Conv2D)            (None, 48, 48, 32)        25632     \n",
            "_________________________________________________________________\n",
            "max_pooling2d_1 (MaxPooling2 (None, 24, 24, 32)        0         \n",
            "_________________________________________________________________\n",
            "dropout_1 (Dropout)          (None, 24, 24, 32)        0         \n",
            "_________________________________________________________________\n",
            "conv2d_3 (Conv2D)            (None, 24, 24, 64)        18496     \n",
            "_________________________________________________________________\n",
            "conv2d_4 (Conv2D)            (None, 24, 24, 64)        36928     \n",
            "_________________________________________________________________\n",
            "max_pooling2d_2 (MaxPooling2 (None, 12, 12, 64)        0         \n",
            "_________________________________________________________________\n",
            "dropout_2 (Dropout)          (None, 12, 12, 64)        0         \n",
            "_________________________________________________________________\n",
            "flatten_1 (Flatten)          (None, 9216)              0         \n",
            "_________________________________________________________________\n",
            "dense_1 (Dense)              (None, 256)               2359552   \n",
            "_________________________________________________________________\n",
            "dropout_3 (Dropout)          (None, 256)               0         \n",
            "_________________________________________________________________\n",
            "dense_2 (Dense)              (None, 7)                 1799      \n",
            "=================================================================\n",
            "Total params: 2,443,239\n",
            "Trainable params: 2,443,239\n",
            "Non-trainable params: 0\n",
            "_________________________________________________________________\n"
          ],
          "name": "stdout"
        }
      ]
    },
    {
      "metadata": {
        "id": "nr36NupsVKlD",
        "colab_type": "code",
        "colab": {
          "autoexec": {
            "startup": false,
            "wait_interval": 0
          }
        }
      },
      "cell_type": "code",
      "source": [
        "# Define the optimizer\n",
        "from keras.optimizers import RMSprop\n",
        "from keras.optimizers import Adam,SGD\n",
        "optimizer = SGD(lr=0.01, momentum=0.9,nesterov=True)\n",
        "#optimizer = RMSprop(lr=0.01)"
      ],
      "execution_count": 0,
      "outputs": []
    },
    {
      "metadata": {
        "id": "KHr7POGmVKoE",
        "colab_type": "code",
        "colab": {
          "autoexec": {
            "startup": false,
            "wait_interval": 0
          }
        }
      },
      "cell_type": "code",
      "source": [
        "# Set a learning rate annealer\n",
        "#this is to reduce the learning rate after some patience with some factor till min_lr\n",
        "\n",
        "from keras.callbacks import ReduceLROnPlateau\n",
        "learning_rate_reduction = ReduceLROnPlateau(monitor='val_acc', \n",
        "                                            patience=3, \n",
        "                                            verbose=1, \n",
        "                                            factor=0.2, \n",
        "                                            min_lr=0.0001)"
      ],
      "execution_count": 0,
      "outputs": []
    },
    {
      "metadata": {
        "id": "A2D9wxv1VKqu",
        "colab_type": "code",
        "colab": {
          "autoexec": {
            "startup": false,
            "wait_interval": 0
          }
        }
      },
      "cell_type": "code",
      "source": [
        "# Compile the model\n",
        "model.compile(optimizer = optimizer , loss = \"categorical_crossentropy\", metrics=[\"accuracy\"])"
      ],
      "execution_count": 0,
      "outputs": []
    },
    {
      "metadata": {
        "id": "S-cSn7BbVKvq",
        "colab_type": "code",
        "colab": {
          "autoexec": {
            "startup": false,
            "wait_interval": 0
          }
        }
      },
      "cell_type": "code",
      "source": [
        "epochs = 30\n",
        "batch_size = 100\n",
        "\n",
        "nb_train_samples=int(train_x.shape[0])\n",
        "nb_validation_samples=int(test_x.shape[0])\n",
        "\n",
        "steps_per_epoch=nb_train_samples // batch_size\n",
        "validation_steps=nb_validation_samples // batch_size"
      ],
      "execution_count": 0,
      "outputs": []
    },
    {
      "metadata": {
        "id": "-jiYxIqfVKz6",
        "colab_type": "code",
        "colab": {
          "autoexec": {
            "startup": false,
            "wait_interval": 0
          },
          "base_uri": "https://localhost:8080/",
          "height": 89
        },
        "outputId": "89e0cedb-4366-4810-f985-8d15c3e07824",
        "executionInfo": {
          "status": "ok",
          "timestamp": 1529014382527,
          "user_tz": -330,
          "elapsed": 995,
          "user": {
            "displayName": "ayush gupta",
            "photoUrl": "//lh5.googleusercontent.com/-SmYRJDgC_jI/AAAAAAAAAAI/AAAAAAAACvk/Iqu4XSMC0tM/s50-c-k-no/photo.jpg",
            "userId": "107111856202799795670"
          }
        }
      },
      "cell_type": "code",
      "source": [
        "print(nb_train_samples)\n",
        "print(nb_validation_samples)\n",
        "print(steps_per_epoch)\n",
        "print(validation_steps)"
      ],
      "execution_count": 13,
      "outputs": [
        {
          "output_type": "stream",
          "text": [
            "28709\n",
            "3589\n",
            "287\n",
            "35\n"
          ],
          "name": "stdout"
        }
      ]
    },
    {
      "metadata": {
        "id": "bHaxxibkVVJX",
        "colab_type": "text"
      },
      "cell_type": "markdown",
      "source": [
        "**Using Keras ImageDataGenerator for image augmentation**"
      ]
    },
    {
      "metadata": {
        "id": "G3H7Xd0zVKyO",
        "colab_type": "code",
        "colab": {
          "autoexec": {
            "startup": false,
            "wait_interval": 0
          }
        }
      },
      "cell_type": "code",
      "source": [
        "from keras.preprocessing.image import ImageDataGenerator\n",
        "\n",
        "train_datagen = ImageDataGenerator(\n",
        "    rescale=1. / 255,\n",
        "    shear_range=0.2,\n",
        "    zoom_range=0.2,\n",
        "    horizontal_flip=True)\n",
        "\n",
        "val_datagen = ImageDataGenerator(\n",
        "    rescale=1. / 255,\n",
        "    shear_range=0.2,\n",
        "    zoom_range=0.2,\n",
        "    horizontal_flip=True)\n"
      ],
      "execution_count": 0,
      "outputs": []
    },
    {
      "metadata": {
        "id": "tcLdWU3GVdXK",
        "colab_type": "text"
      },
      "cell_type": "markdown",
      "source": [
        "Use of  ***fit_generator***  and ***predict_genrator*** with custom data generator functions which can load images to memory duuring training and prediction."
      ]
    },
    {
      "metadata": {
        "id": "IavA2HkiVeI6",
        "colab_type": "text"
      },
      "cell_type": "markdown",
      "source": [
        "There is ***ImageDataGenerator()***  in Keras which provides one such generator, which we can create using ***flow()*** or ***flow_from_directory***\n",
        "\n",
        "[>>flow and flow from directory](https://towardsdatascience.com/keras-a-thing-you-should-know-about-keras-if-you-plan-to-train-a-deep-learning-model-on-a-large-fdd63ce66bd2)"
      ]
    },
    {
      "metadata": {
        "id": "ti3MNFQzVhA7",
        "colab_type": "code",
        "colab": {
          "autoexec": {
            "startup": false,
            "wait_interval": 0
          }
        }
      },
      "cell_type": "code",
      "source": [
        "train_generator = train_datagen.flow(train_x, train_y, batch_size=batch_size)\n",
        "validation_generator = val_datagen.flow(test_x, test_y, batch_size=batch_size)"
      ],
      "execution_count": 0,
      "outputs": []
    },
    {
      "metadata": {
        "id": "1rBrf3sAVhD6",
        "colab_type": "code",
        "colab": {
          "autoexec": {
            "startup": false,
            "wait_interval": 0
          },
          "base_uri": "https://localhost:8080/",
          "height": 71
        },
        "outputId": "6050a8da-529f-4504-9913-0883f3440110",
        "executionInfo": {
          "status": "ok",
          "timestamp": 1529257379534,
          "user_tz": -330,
          "elapsed": 2299,
          "user": {
            "displayName": "ayush gupta",
            "photoUrl": "//lh5.googleusercontent.com/-SmYRJDgC_jI/AAAAAAAAAAI/AAAAAAAACvk/Iqu4XSMC0tM/s50-c-k-no/photo.jpg",
            "userId": "107111856202799795670"
          }
        }
      },
      "cell_type": "code",
      "source": [
        "! free -m"
      ],
      "execution_count": 19,
      "outputs": [
        {
          "output_type": "stream",
          "text": [
            "              total        used        free      shared  buff/cache   available\r\n",
            "Mem:          13029        1335         155         247       11537       11197\r\n",
            "Swap:             0           0           0\r\n"
          ],
          "name": "stdout"
        }
      ]
    },
    {
      "metadata": {
        "id": "Tc8nWpTCVhJ1",
        "colab_type": "code",
        "colab": {
          "autoexec": {
            "startup": false,
            "wait_interval": 0
          },
          "base_uri": "https://localhost:8080/",
          "height": 1117
        },
        "outputId": "61cf0df1-9e0a-4026-a526-3acacc05fbdf",
        "executionInfo": {
          "status": "ok",
          "timestamp": 1529014961177,
          "user_tz": -330,
          "elapsed": 560695,
          "user": {
            "displayName": "ayush gupta",
            "photoUrl": "//lh5.googleusercontent.com/-SmYRJDgC_jI/AAAAAAAAAAI/AAAAAAAACvk/Iqu4XSMC0tM/s50-c-k-no/photo.jpg",
            "userId": "107111856202799795670"
          }
        }
      },
      "cell_type": "code",
      "source": [
        "# Fit the model\n",
        "history=model.fit_generator(\n",
        "    train_generator, \n",
        "    steps_per_epoch=steps_per_epoch,\n",
        "    epochs=epochs,\n",
        "    validation_data=validation_generator,\n",
        "    validation_steps=validation_steps,\n",
        "    callbacks=[learning_rate_reduction]\n",
        ")"
      ],
      "execution_count": 17,
      "outputs": [
        {
          "output_type": "stream",
          "text": [
            "Epoch 1/30\n",
            "287/287 [==============================] - 20s 71ms/step - loss: 1.8101 - acc: 0.2496 - val_loss: 1.7550 - val_acc: 0.2731\n",
            "Epoch 2/30\n",
            "287/287 [==============================] - 18s 64ms/step - loss: 1.7414 - acc: 0.2911 - val_loss: 1.6860 - val_acc: 0.3446\n",
            "Epoch 3/30\n",
            " 28/287 [=>............................] - ETA: 15s - loss: 1.7003 - acc: 0.3271"
          ],
          "name": "stdout"
        },
        {
          "output_type": "stream",
          "text": [
            "287/287 [==============================] - 18s 64ms/step - loss: 1.6761 - acc: 0.3341 - val_loss: 1.6053 - val_acc: 0.3723\n",
            "Epoch 4/30\n",
            "287/287 [==============================] - 18s 64ms/step - loss: 1.6162 - acc: 0.3650 - val_loss: 1.5297 - val_acc: 0.4080\n",
            "Epoch 5/30\n",
            " 55/287 [====>.........................] - ETA: 13s - loss: 1.5802 - acc: 0.3787"
          ],
          "name": "stdout"
        },
        {
          "output_type": "stream",
          "text": [
            "287/287 [==============================] - 18s 64ms/step - loss: 1.5586 - acc: 0.3937 - val_loss: 1.4627 - val_acc: 0.4377\n",
            "Epoch 6/30\n",
            "287/287 [==============================] - 19s 65ms/step - loss: 1.5083 - acc: 0.4150 - val_loss: 1.4223 - val_acc: 0.4431\n",
            "Epoch 7/30\n",
            " 62/287 [=====>........................] - ETA: 13s - loss: 1.4806 - acc: 0.4347"
          ],
          "name": "stdout"
        },
        {
          "output_type": "stream",
          "text": [
            "287/287 [==============================] - 19s 65ms/step - loss: 1.4612 - acc: 0.4384 - val_loss: 1.3796 - val_acc: 0.4671\n",
            "Epoch 8/30\n",
            "287/287 [==============================] - 19s 65ms/step - loss: 1.4316 - acc: 0.4453 - val_loss: 1.3569 - val_acc: 0.4751\n",
            "Epoch 9/30\n",
            " 64/287 [=====>........................] - ETA: 13s - loss: 1.3919 - acc: 0.4620"
          ],
          "name": "stdout"
        },
        {
          "output_type": "stream",
          "text": [
            "287/287 [==============================] - 19s 65ms/step - loss: 1.3994 - acc: 0.4635 - val_loss: 1.3410 - val_acc: 0.4791\n",
            "Epoch 10/30\n",
            "287/287 [==============================] - 19s 65ms/step - loss: 1.3745 - acc: 0.4729 - val_loss: 1.3026 - val_acc: 0.5031\n",
            "Epoch 11/30\n",
            " 66/287 [=====>........................] - ETA: 12s - loss: 1.3630 - acc: 0.4736"
          ],
          "name": "stdout"
        },
        {
          "output_type": "stream",
          "text": [
            "287/287 [==============================] - 18s 64ms/step - loss: 1.3576 - acc: 0.4800 - val_loss: 1.2972 - val_acc: 0.5123\n",
            "Epoch 12/30\n",
            "287/287 [==============================] - 19s 65ms/step - loss: 1.3289 - acc: 0.4936 - val_loss: 1.2554 - val_acc: 0.5257\n",
            "Epoch 13/30\n",
            " 67/287 [======>.......................] - ETA: 12s - loss: 1.3072 - acc: 0.5035"
          ],
          "name": "stdout"
        },
        {
          "output_type": "stream",
          "text": [
            "287/287 [==============================] - 19s 65ms/step - loss: 1.3035 - acc: 0.5025 - val_loss: 1.2605 - val_acc: 0.5226\n",
            "Epoch 14/30\n",
            "287/287 [==============================] - 19s 65ms/step - loss: 1.2865 - acc: 0.5094 - val_loss: 1.2375 - val_acc: 0.5246\n",
            "Epoch 15/30\n",
            " 66/287 [=====>........................] - ETA: 12s - loss: 1.2815 - acc: 0.5062"
          ],
          "name": "stdout"
        },
        {
          "output_type": "stream",
          "text": [
            "287/287 [==============================] - 19s 64ms/step - loss: 1.2718 - acc: 0.5122 - val_loss: 1.2238 - val_acc: 0.5346\n",
            "Epoch 16/30\n",
            "287/287 [==============================] - 19s 65ms/step - loss: 1.2559 - acc: 0.5179 - val_loss: 1.1975 - val_acc: 0.5483\n",
            "Epoch 17/30\n",
            " 67/287 [======>.......................] - ETA: 12s - loss: 1.2286 - acc: 0.5355"
          ],
          "name": "stdout"
        },
        {
          "output_type": "stream",
          "text": [
            "287/287 [==============================] - 19s 65ms/step - loss: 1.2305 - acc: 0.5302 - val_loss: 1.1985 - val_acc: 0.5471\n",
            "Epoch 18/30\n",
            "287/287 [==============================] - 19s 65ms/step - loss: 1.2266 - acc: 0.5332 - val_loss: 1.1790 - val_acc: 0.5474\n",
            "Epoch 19/30\n",
            " 67/287 [======>.......................] - ETA: 12s - loss: 1.1966 - acc: 0.5493"
          ],
          "name": "stdout"
        },
        {
          "output_type": "stream",
          "text": [
            "287/287 [==============================] - 19s 65ms/step - loss: 1.2066 - acc: 0.5391 - val_loss: 1.1721 - val_acc: 0.5531\n",
            "Epoch 20/30\n",
            "287/287 [==============================] - 19s 65ms/step - loss: 1.1972 - acc: 0.5412 - val_loss: 1.1741 - val_acc: 0.5486\n",
            "Epoch 21/30\n",
            " 66/287 [=====>........................] - ETA: 12s - loss: 1.1780 - acc: 0.5505"
          ],
          "name": "stdout"
        },
        {
          "output_type": "stream",
          "text": [
            "287/287 [==============================] - 18s 64ms/step - loss: 1.1831 - acc: 0.5508 - val_loss: 1.1654 - val_acc: 0.5629\n",
            "Epoch 22/30\n",
            "287/287 [==============================] - 19s 65ms/step - loss: 1.1741 - acc: 0.5535 - val_loss: 1.1590 - val_acc: 0.5617\n",
            "Epoch 23/30\n",
            " 67/287 [======>.......................] - ETA: 12s - loss: 1.1727 - acc: 0.5536"
          ],
          "name": "stdout"
        },
        {
          "output_type": "stream",
          "text": [
            "287/287 [==============================] - 18s 64ms/step - loss: 1.1669 - acc: 0.5575 - val_loss: 1.1441 - val_acc: 0.5626\n",
            "Epoch 24/30\n",
            "287/287 [==============================] - 19s 65ms/step - loss: 1.1512 - acc: 0.5608 - val_loss: 1.1513 - val_acc: 0.5680\n",
            "Epoch 25/30\n",
            " 66/287 [=====>........................] - ETA: 12s - loss: 1.1395 - acc: 0.5721"
          ],
          "name": "stdout"
        },
        {
          "output_type": "stream",
          "text": [
            "287/287 [==============================] - 19s 65ms/step - loss: 1.1487 - acc: 0.5673 - val_loss: 1.1502 - val_acc: 0.5546\n",
            "Epoch 26/30\n",
            "287/287 [==============================] - 19s 65ms/step - loss: 1.1341 - acc: 0.5705 - val_loss: 1.1261 - val_acc: 0.5683\n",
            "Epoch 27/30\n",
            " 67/287 [======>.......................] - ETA: 12s - loss: 1.1403 - acc: 0.5628"
          ],
          "name": "stdout"
        },
        {
          "output_type": "stream",
          "text": [
            "287/287 [==============================] - 18s 64ms/step - loss: 1.1231 - acc: 0.5725 - val_loss: 1.1254 - val_acc: 0.5749\n",
            "Epoch 28/30\n",
            "287/287 [==============================] - 19s 65ms/step - loss: 1.1192 - acc: 0.5772 - val_loss: 1.1258 - val_acc: 0.5717\n",
            "Epoch 29/30\n",
            " 65/287 [=====>........................] - ETA: 12s - loss: 1.1322 - acc: 0.5741"
          ],
          "name": "stdout"
        },
        {
          "output_type": "stream",
          "text": [
            "287/287 [==============================] - 19s 65ms/step - loss: 1.1131 - acc: 0.5828 - val_loss: 1.1237 - val_acc: 0.5703\n",
            "Epoch 30/30\n",
            "287/287 [==============================] - 19s 65ms/step - loss: 1.0948 - acc: 0.5849 - val_loss: 1.1155 - val_acc: 0.5774\n"
          ],
          "name": "stdout"
        }
      ]
    },
    {
      "metadata": {
        "id": "huQfjyQ-VhOQ",
        "colab_type": "code",
        "colab": {
          "autoexec": {
            "startup": false,
            "wait_interval": 0
          },
          "base_uri": "https://localhost:8080/",
          "height": 347
        },
        "outputId": "3bf72a89-2bf3-40bd-e893-8795546e6e28",
        "executionInfo": {
          "status": "ok",
          "timestamp": 1529014976354,
          "user_tz": -330,
          "elapsed": 1594,
          "user": {
            "displayName": "ayush gupta",
            "photoUrl": "//lh5.googleusercontent.com/-SmYRJDgC_jI/AAAAAAAAAAI/AAAAAAAACvk/Iqu4XSMC0tM/s50-c-k-no/photo.jpg",
            "userId": "107111856202799795670"
          }
        }
      },
      "cell_type": "code",
      "source": [
        "# Plot the loss and accuracy curves for training and validation \n",
        "fig, ax = plt.subplots(2,1)\n",
        "ax[0].plot(history.history['loss'], color='b', label=\"Training loss\")\n",
        "ax[0].plot(history.history['val_loss'], color='r', label=\"validation loss\",axes =ax[0])\n",
        "legend = ax[0].legend(loc='best', shadow=True)\n",
        "\n",
        "ax[1].plot(history.history['acc'], color='b', label=\"Training accuracy\")\n",
        "ax[1].plot(history.history['val_acc'], color='r',label=\"Validation accuracy\")\n",
        "legend = ax[1].legend(loc='best', shadow=True)"
      ],
      "execution_count": 18,
      "outputs": [
        {
          "output_type": "display_data",
          "data": {
            "image/png": "[encoded data removed]",
            "text/plain": [
              "<matplotlib.figure.Figure at 0x7fde46e2f0b8>"
            ]
          },
          "metadata": {
            "tags": []
          }
        }
      ]
    },
    {
      "metadata": {
        "id": "pfua0i0-VhMt",
        "colab_type": "code",
        "colab": {
          "autoexec": {
            "startup": false,
            "wait_interval": 0
          },
          "base_uri": "https://localhost:8080/",
          "height": 35
        },
        "outputId": "9bf8dbaf-215f-4688-a751-ab7fcece722d",
        "executionInfo": {
          "status": "ok",
          "timestamp": 1529014993155,
          "user_tz": -330,
          "elapsed": 13120,
          "user": {
            "displayName": "ayush gupta",
            "photoUrl": "//lh5.googleusercontent.com/-SmYRJDgC_jI/AAAAAAAAAAI/AAAAAAAACvk/Iqu4XSMC0tM/s50-c-k-no/photo.jpg",
            "userId": "107111856202799795670"
          }
        }
      },
      "cell_type": "code",
      "source": [
        "model.evaluate_generator(train_generator,steps_per_epoch)"
      ],
      "execution_count": 19,
      "outputs": [
        {
          "output_type": "execute_result",
          "data": {
            "text/plain": [
              "[0.9755028583862225, 0.6408710807873397]"
            ]
          },
          "metadata": {
            "tags": []
          },
          "execution_count": 19
        }
      ]
    },
    {
      "metadata": {
        "id": "AA7NHNNrVrke",
        "colab_type": "code",
        "colab": {
          "autoexec": {
            "startup": false,
            "wait_interval": 0
          },
          "base_uri": "https://localhost:8080/",
          "height": 35
        },
        "outputId": "1a994ea1-7a44-47b7-b729-88bd52f19d2e",
        "executionInfo": {
          "status": "ok",
          "timestamp": 1529014996353,
          "user_tz": -330,
          "elapsed": 3165,
          "user": {
            "displayName": "ayush gupta",
            "photoUrl": "//lh5.googleusercontent.com/-SmYRJDgC_jI/AAAAAAAAAAI/AAAAAAAACvk/Iqu4XSMC0tM/s50-c-k-no/photo.jpg",
            "userId": "107111856202799795670"
          }
        }
      },
      "cell_type": "code",
      "source": [
        "model.evaluate_generator(validation_generator,validation_steps)"
      ],
      "execution_count": 20,
      "outputs": [
        {
          "output_type": "execute_result",
          "data": {
            "text/plain": [
              "[1.1098559481757029, 0.5777142856802259]"
            ]
          },
          "metadata": {
            "tags": []
          },
          "execution_count": 20
        }
      ]
    },
    {
      "metadata": {
        "id": "PHnJMmbsVrpY",
        "colab_type": "code",
        "colab": {
          "autoexec": {
            "startup": false,
            "wait_interval": 0
          }
        }
      },
      "cell_type": "code",
      "source": [
        "model.save('./drive/datasets/facial_recog/facial_recog_model.h5')"
      ],
      "execution_count": 0,
      "outputs": []
    },
    {
      "metadata": {
        "id": "nOC9AH7oYyv_",
        "colab_type": "text"
      },
      "cell_type": "markdown",
      "source": [
        "**You can train this model further by assigning it to your own weights saved earlier.**"
      ]
    },
    {
      "metadata": {
        "id": "A7Nso-6qVrvN",
        "colab_type": "code",
        "colab": {
          "autoexec": {
            "startup": false,
            "wait_interval": 0
          }
        }
      },
      "cell_type": "code",
      "source": [
        "from keras.models import load_model\n",
        "\n",
        "new_model = load_model('./drive/datasets/facial_recog/facial_recog_model.h5')"
      ],
      "execution_count": 0,
      "outputs": []
    },
    {
      "metadata": {
        "id": "I23JWZsuZZ3D",
        "colab_type": "code",
        "colab": {
          "autoexec": {
            "startup": false,
            "wait_interval": 0
          }
        }
      },
      "cell_type": "code",
      "source": [
        "epochs = 60\n",
        "batch_size = 100\n",
        "\n",
        "nb_train_samples=int(train_x.shape[0])\n",
        "nb_validation_samples=int(test_x.shape[0])\n",
        "\n",
        "steps_per_epoch=nb_train_samples // batch_size\n",
        "validation_steps=nb_validation_samples // batch_size"
      ],
      "execution_count": 0,
      "outputs": []
    },
    {
      "metadata": {
        "id": "2rwtyHlTZajX",
        "colab_type": "code",
        "colab": {
          "autoexec": {
            "startup": false,
            "wait_interval": 0
          },
          "base_uri": "https://localhost:8080/",
          "height": 107
        },
        "outputId": "774bab8b-6198-4658-a905-8a35a94fa15b",
        "executionInfo": {
          "status": "ok",
          "timestamp": 1529015102137,
          "user_tz": -330,
          "elapsed": 2095,
          "user": {
            "displayName": "ayush gupta",
            "photoUrl": "//lh5.googleusercontent.com/-SmYRJDgC_jI/AAAAAAAAAAI/AAAAAAAACvk/Iqu4XSMC0tM/s50-c-k-no/photo.jpg",
            "userId": "107111856202799795670"
          }
        }
      },
      "cell_type": "code",
      "source": [
        "print(nb_train_samples)\n",
        "print(nb_validation_samples)\n",
        "print(steps_per_epoch)\n",
        "print(validation_steps)\n",
        "print(epochs)"
      ],
      "execution_count": 26,
      "outputs": [
        {
          "output_type": "stream",
          "text": [
            "28709\n",
            "3589\n",
            "287\n",
            "35\n",
            "60\n"
          ],
          "name": "stdout"
        }
      ]
    },
    {
      "metadata": {
        "id": "JS2HE428Y_zw",
        "colab_type": "code",
        "colab": {
          "autoexec": {
            "startup": false,
            "wait_interval": 0
          },
          "base_uri": "https://localhost:8080/",
          "height": 2305
        },
        "outputId": "8635f311-66f7-46ef-e3c3-b62946113586",
        "executionInfo": {
          "status": "ok",
          "timestamp": 1529016221513,
          "user_tz": -330,
          "elapsed": 1114716,
          "user": {
            "displayName": "ayush gupta",
            "photoUrl": "//lh5.googleusercontent.com/-SmYRJDgC_jI/AAAAAAAAAAI/AAAAAAAACvk/Iqu4XSMC0tM/s50-c-k-no/photo.jpg",
            "userId": "107111856202799795670"
          }
        }
      },
      "cell_type": "code",
      "source": [
        "# Calling fit_genrator on new_model\n",
        "history=new_model.fit_generator(\n",
        "    train_generator, \n",
        "    steps_per_epoch=steps_per_epoch,\n",
        "    epochs=epochs,\n",
        "    validation_data=validation_generator,\n",
        "    validation_steps=validation_steps,\n",
        "    callbacks=[learning_rate_reduction]\n",
        ")"
      ],
      "execution_count": 27,
      "outputs": [
        {
          "output_type": "stream",
          "text": [
            "Epoch 1/60\n",
            "287/287 [==============================] - 18s 63ms/step - loss: 1.0928 - acc: 0.5881 - val_loss: 1.1086 - val_acc: 0.5840\n",
            "Epoch 2/60\n",
            "287/287 [==============================] - 18s 64ms/step - loss: 1.0841 - acc: 0.5878 - val_loss: 1.1097 - val_acc: 0.5746\n",
            "Epoch 3/60\n",
            " 30/287 [==>...........................] - ETA: 15s - loss: 1.0296 - acc: 0.6133"
          ],
          "name": "stdout"
        },
        {
          "output_type": "stream",
          "text": [
            "287/287 [==============================] - 18s 64ms/step - loss: 1.0752 - acc: 0.5919 - val_loss: 1.1201 - val_acc: 0.5791\n",
            "Epoch 4/60\n",
            "287/287 [==============================] - 18s 64ms/step - loss: 1.0733 - acc: 0.5914 - val_loss: 1.0930 - val_acc: 0.5906\n",
            "Epoch 5/60\n",
            " 56/287 [====>.........................] - ETA: 13s - loss: 1.0500 - acc: 0.6046"
          ],
          "name": "stdout"
        },
        {
          "output_type": "stream",
          "text": [
            "287/287 [==============================] - 18s 64ms/step - loss: 1.0620 - acc: 0.5976 - val_loss: 1.0981 - val_acc: 0.5780\n",
            "Epoch 6/60\n",
            "287/287 [==============================] - 19s 65ms/step - loss: 1.0593 - acc: 0.6012 - val_loss: 1.0950 - val_acc: 0.5803\n",
            "Epoch 7/60\n",
            " 60/287 [=====>........................] - ETA: 13s - loss: 1.0639 - acc: 0.6012"
          ],
          "name": "stdout"
        },
        {
          "output_type": "stream",
          "text": [
            "287/287 [==============================] - 19s 65ms/step - loss: 1.0421 - acc: 0.6048 - val_loss: 1.0931 - val_acc: 0.5837\n",
            "\n",
            "Epoch 00007: ReduceLROnPlateau reducing learning rate to 0.0019999999552965165.\n",
            "Epoch 8/60\n",
            "283/287 [============================>.] - ETA: 0s - loss: 1.0069 - acc: 0.6174"
          ],
          "name": "stdout"
        },
        {
          "output_type": "stream",
          "text": [
            "287/287 [==============================] - 19s 65ms/step - loss: 1.0070 - acc: 0.6179 - val_loss: 1.0723 - val_acc: 0.5960\n",
            "Epoch 9/60\n",
            "287/287 [==============================] - 18s 64ms/step - loss: 0.9900 - acc: 0.6289 - val_loss: 1.0718 - val_acc: 0.5897\n",
            "Epoch 10/60\n",
            "116/287 [===========>..................] - ETA: 10s - loss: 0.9870 - acc: 0.6317"
          ],
          "name": "stdout"
        },
        {
          "output_type": "stream",
          "text": [
            "287/287 [==============================] - 19s 65ms/step - loss: 0.9858 - acc: 0.6309 - val_loss: 1.0667 - val_acc: 0.5980\n",
            "Epoch 11/60\n",
            "287/287 [==============================] - 19s 65ms/step - loss: 0.9717 - acc: 0.6354 - val_loss: 1.0643 - val_acc: 0.5986\n",
            "Epoch 12/60\n",
            " 77/287 [=======>......................] - ETA: 12s - loss: 0.9842 - acc: 0.6251"
          ],
          "name": "stdout"
        },
        {
          "output_type": "stream",
          "text": [
            "287/287 [==============================] - 19s 65ms/step - loss: 0.9722 - acc: 0.6340 - val_loss: 1.0618 - val_acc: 0.5986\n",
            "Epoch 13/60\n",
            "287/287 [==============================] - 19s 65ms/step - loss: 0.9645 - acc: 0.6403 - val_loss: 1.0776 - val_acc: 0.5937\n",
            "Epoch 14/60\n",
            " 70/287 [======>.......................] - ETA: 12s - loss: 0.9568 - acc: 0.6409"
          ],
          "name": "stdout"
        },
        {
          "output_type": "stream",
          "text": [
            "287/287 [==============================] - 19s 65ms/step - loss: 0.9594 - acc: 0.6386 - val_loss: 1.0632 - val_acc: 0.6006\n",
            "Epoch 15/60\n",
            "287/287 [==============================] - 19s 65ms/step - loss: 0.9603 - acc: 0.6379 - val_loss: 1.0652 - val_acc: 0.5986\n",
            "Epoch 16/60\n",
            " 64/287 [=====>........................] - ETA: 12s - loss: 0.9511 - acc: 0.6434"
          ],
          "name": "stdout"
        },
        {
          "output_type": "stream",
          "text": [
            "287/287 [==============================] - 19s 65ms/step - loss: 0.9604 - acc: 0.6405 - val_loss: 1.0834 - val_acc: 0.5951\n",
            "Epoch 17/60\n",
            "287/287 [==============================] - 18s 64ms/step - loss: 0.9544 - acc: 0.6400 - val_loss: 1.0725 - val_acc: 0.5994\n",
            "\n",
            "Epoch 00017: ReduceLROnPlateau reducing learning rate to 0.0003999999724328518.\n",
            "Epoch 18/60\n",
            " 54/287 [====>.........................] - ETA: 13s - loss: 0.9560 - acc: 0.6391"
          ],
          "name": "stdout"
        },
        {
          "output_type": "stream",
          "text": [
            "287/287 [==============================] - 19s 65ms/step - loss: 0.9456 - acc: 0.6460 - val_loss: 1.0652 - val_acc: 0.6046\n",
            "Epoch 19/60\n",
            "287/287 [==============================] - 19s 65ms/step - loss: 0.9373 - acc: 0.6466 - val_loss: 1.0678 - val_acc: 0.5977\n",
            "Epoch 20/60\n",
            " 62/287 [=====>........................] - ETA: 12s - loss: 0.9358 - acc: 0.6548"
          ],
          "name": "stdout"
        },
        {
          "output_type": "stream",
          "text": [
            "287/287 [==============================] - 18s 64ms/step - loss: 0.9455 - acc: 0.6438 - val_loss: 1.0650 - val_acc: 0.6051\n",
            "Epoch 21/60\n",
            "287/287 [==============================] - 19s 65ms/step - loss: 0.9358 - acc: 0.6472 - val_loss: 1.0560 - val_acc: 0.6060\n",
            "Epoch 22/60\n",
            " 65/287 [=====>........................] - ETA: 12s - loss: 0.9291 - acc: 0.6477"
          ],
          "name": "stdout"
        },
        {
          "output_type": "stream",
          "text": [
            "287/287 [==============================] - 19s 65ms/step - loss: 0.9364 - acc: 0.6480 - val_loss: 1.0642 - val_acc: 0.6011\n",
            "Epoch 23/60\n",
            "287/287 [==============================] - 19s 65ms/step - loss: 0.9274 - acc: 0.6541 - val_loss: 1.0589 - val_acc: 0.6057\n",
            "Epoch 24/60\n",
            " 70/287 [======>.......................] - ETA: 12s - loss: 0.9637 - acc: 0.6422"
          ],
          "name": "stdout"
        },
        {
          "output_type": "stream",
          "text": [
            "287/287 [==============================] - 19s 65ms/step - loss: 0.9392 - acc: 0.6470 - val_loss: 1.0676 - val_acc: 0.6003\n",
            "\n",
            "Epoch 00024: ReduceLROnPlateau reducing learning rate to 0.0001.\n",
            "Epoch 25/60\n",
            "287/287 [==============================] - 18s 64ms/step - loss: 0.9309 - acc: 0.6513 - val_loss: 1.0690 - val_acc: 0.6000\n",
            "Epoch 26/60\n",
            "  9/287 [..............................] - ETA: 14s - loss: 0.9985 - acc: 0.6278"
          ],
          "name": "stdout"
        },
        {
          "output_type": "stream",
          "text": [
            "287/287 [==============================] - 19s 65ms/step - loss: 0.9366 - acc: 0.6486 - val_loss: 1.0710 - val_acc: 0.6020\n",
            "Epoch 27/60\n",
            "287/287 [==============================] - 18s 64ms/step - loss: 0.9314 - acc: 0.6495 - val_loss: 1.0574 - val_acc: 0.6057\n",
            "Epoch 28/60\n",
            " 54/287 [====>.........................] - ETA: 13s - loss: 0.9238 - acc: 0.6541"
          ],
          "name": "stdout"
        },
        {
          "output_type": "stream",
          "text": [
            "287/287 [==============================] - 18s 64ms/step - loss: 0.9242 - acc: 0.6528 - val_loss: 1.0639 - val_acc: 0.6034\n",
            "Epoch 29/60\n",
            "287/287 [==============================] - 19s 65ms/step - loss: 0.9262 - acc: 0.6518 - val_loss: 1.0689 - val_acc: 0.6009\n",
            "Epoch 30/60\n",
            " 62/287 [=====>........................] - ETA: 12s - loss: 0.9168 - acc: 0.6605"
          ],
          "name": "stdout"
        },
        {
          "output_type": "stream",
          "text": [
            "287/287 [==============================] - 18s 64ms/step - loss: 0.9338 - acc: 0.6486 - val_loss: 1.0644 - val_acc: 0.6049\n",
            "Epoch 31/60\n",
            "287/287 [==============================] - 19s 65ms/step - loss: 0.9265 - acc: 0.6527 - val_loss: 1.0677 - val_acc: 0.6029\n",
            "Epoch 32/60\n",
            " 64/287 [=====>........................] - ETA: 12s - loss: 0.9256 - acc: 0.6539"
          ],
          "name": "stdout"
        },
        {
          "output_type": "stream",
          "text": [
            "287/287 [==============================] - 19s 65ms/step - loss: 0.9233 - acc: 0.6548 - val_loss: 1.0646 - val_acc: 0.6114\n",
            "Epoch 33/60\n",
            "287/287 [==============================] - 19s 66ms/step - loss: 0.9295 - acc: 0.6520 - val_loss: 1.0617 - val_acc: 0.6057\n",
            "Epoch 34/60\n",
            " 64/287 [=====>........................] - ETA: 12s - loss: 0.9443 - acc: 0.6373"
          ],
          "name": "stdout"
        },
        {
          "output_type": "stream",
          "text": [
            "287/287 [==============================] - 19s 65ms/step - loss: 0.9274 - acc: 0.6489 - val_loss: 1.0581 - val_acc: 0.6049\n",
            "Epoch 35/60\n",
            "287/287 [==============================] - 18s 64ms/step - loss: 0.9294 - acc: 0.6521 - val_loss: 1.0647 - val_acc: 0.6097\n",
            "Epoch 36/60\n",
            " 64/287 [=====>........................] - ETA: 12s - loss: 0.9310 - acc: 0.6447"
          ],
          "name": "stdout"
        },
        {
          "output_type": "stream",
          "text": [
            "287/287 [==============================] - 19s 65ms/step - loss: 0.9294 - acc: 0.6502 - val_loss: 1.0644 - val_acc: 0.6040\n",
            "Epoch 37/60\n",
            "287/287 [==============================] - 19s 65ms/step - loss: 0.9203 - acc: 0.6523 - val_loss: 1.0519 - val_acc: 0.6057\n",
            "Epoch 38/60\n",
            " 65/287 [=====>........................] - ETA: 12s - loss: 0.9231 - acc: 0.6542"
          ],
          "name": "stdout"
        },
        {
          "output_type": "stream",
          "text": [
            "287/287 [==============================] - 18s 64ms/step - loss: 0.9332 - acc: 0.6502 - val_loss: 1.0639 - val_acc: 0.6011\n",
            "Epoch 39/60\n",
            "287/287 [==============================] - 18s 64ms/step - loss: 0.9294 - acc: 0.6501 - val_loss: 1.0453 - val_acc: 0.6080\n",
            "Epoch 40/60\n",
            " 65/287 [=====>........................] - ETA: 12s - loss: 0.9341 - acc: 0.6546"
          ],
          "name": "stdout"
        },
        {
          "output_type": "stream",
          "text": [
            "287/287 [==============================] - 18s 64ms/step - loss: 0.9297 - acc: 0.6502 - val_loss: 1.0538 - val_acc: 0.6017\n",
            "Epoch 41/60\n",
            "287/287 [==============================] - 19s 65ms/step - loss: 0.9335 - acc: 0.6500 - val_loss: 1.0626 - val_acc: 0.6017\n",
            "Epoch 42/60\n",
            " 65/287 [=====>........................] - ETA: 12s - loss: 0.9256 - acc: 0.6522"
          ],
          "name": "stdout"
        },
        {
          "output_type": "stream",
          "text": [
            "287/287 [==============================] - 18s 64ms/step - loss: 0.9301 - acc: 0.6499 - val_loss: 1.0585 - val_acc: 0.6086\n",
            "Epoch 43/60\n",
            "287/287 [==============================] - 18s 64ms/step - loss: 0.9225 - acc: 0.6551 - val_loss: 1.0590 - val_acc: 0.6026\n",
            "Epoch 44/60\n",
            " 63/287 [=====>........................] - ETA: 13s - loss: 0.9098 - acc: 0.6594"
          ],
          "name": "stdout"
        },
        {
          "output_type": "stream",
          "text": [
            "287/287 [==============================] - 19s 65ms/step - loss: 0.9224 - acc: 0.6553 - val_loss: 1.0558 - val_acc: 0.5980\n",
            "Epoch 45/60\n",
            "287/287 [==============================] - 19s 65ms/step - loss: 0.9342 - acc: 0.6508 - val_loss: 1.0595 - val_acc: 0.6046\n",
            "Epoch 46/60\n",
            " 61/287 [=====>........................] - ETA: 12s - loss: 0.9182 - acc: 0.6605"
          ],
          "name": "stdout"
        },
        {
          "output_type": "stream",
          "text": [
            "287/287 [==============================] - 19s 65ms/step - loss: 0.9235 - acc: 0.6531 - val_loss: 1.0600 - val_acc: 0.6017\n",
            "Epoch 47/60\n",
            "287/287 [==============================] - 19s 65ms/step - loss: 0.9261 - acc: 0.6536 - val_loss: 1.0610 - val_acc: 0.6051\n",
            "Epoch 48/60\n",
            " 65/287 [=====>........................] - ETA: 12s - loss: 0.9277 - acc: 0.6452"
          ],
          "name": "stdout"
        },
        {
          "output_type": "stream",
          "text": [
            "287/287 [==============================] - 18s 64ms/step - loss: 0.9307 - acc: 0.6490 - val_loss: 1.0560 - val_acc: 0.6037\n",
            "Epoch 49/60\n",
            "287/287 [==============================] - 18s 64ms/step - loss: 0.9251 - acc: 0.6523 - val_loss: 1.0577 - val_acc: 0.6117\n",
            "Epoch 50/60\n",
            " 69/287 [======>.......................] - ETA: 12s - loss: 0.9032 - acc: 0.6610"
          ],
          "name": "stdout"
        },
        {
          "output_type": "stream",
          "text": [
            "287/287 [==============================] - 18s 64ms/step - loss: 0.9187 - acc: 0.6538 - val_loss: 1.0652 - val_acc: 0.6026\n",
            "Epoch 51/60\n",
            "287/287 [==============================] - 18s 64ms/step - loss: 0.9229 - acc: 0.6559 - val_loss: 1.0552 - val_acc: 0.6094\n",
            "Epoch 52/60\n",
            " 65/287 [=====>........................] - ETA: 12s - loss: 0.9306 - acc: 0.6523"
          ],
          "name": "stdout"
        },
        {
          "output_type": "stream",
          "text": [
            "287/287 [==============================] - 19s 65ms/step - loss: 0.9240 - acc: 0.6536 - val_loss: 1.0720 - val_acc: 0.5954\n",
            "Epoch 53/60\n",
            "287/287 [==============================] - 18s 64ms/step - loss: 0.9183 - acc: 0.6586 - val_loss: 1.0650 - val_acc: 0.5994\n",
            "Epoch 54/60\n",
            " 65/287 [=====>........................] - ETA: 12s - loss: 0.9322 - acc: 0.6508"
          ],
          "name": "stdout"
        },
        {
          "output_type": "stream",
          "text": [
            "287/287 [==============================] - 19s 65ms/step - loss: 0.9234 - acc: 0.6501 - val_loss: 1.0620 - val_acc: 0.6063\n",
            "Epoch 55/60\n",
            "287/287 [==============================] - 18s 64ms/step - loss: 0.9302 - acc: 0.6536 - val_loss: 1.0516 - val_acc: 0.6071\n",
            "Epoch 56/60\n",
            " 62/287 [=====>........................] - ETA: 12s - loss: 0.9252 - acc: 0.6552"
          ],
          "name": "stdout"
        },
        {
          "output_type": "stream",
          "text": [
            "287/287 [==============================] - 18s 64ms/step - loss: 0.9235 - acc: 0.6530 - val_loss: 1.0503 - val_acc: 0.6077\n",
            "Epoch 57/60\n",
            "287/287 [==============================] - 19s 65ms/step - loss: 0.9260 - acc: 0.6534 - val_loss: 1.0645 - val_acc: 0.6043\n",
            "Epoch 58/60\n",
            " 62/287 [=====>........................] - ETA: 12s - loss: 0.9061 - acc: 0.6631"
          ],
          "name": "stdout"
        },
        {
          "output_type": "stream",
          "text": [
            "287/287 [==============================] - 19s 65ms/step - loss: 0.9215 - acc: 0.6554 - val_loss: 1.0665 - val_acc: 0.6071\n",
            "Epoch 59/60\n",
            "287/287 [==============================] - 19s 65ms/step - loss: 0.9148 - acc: 0.6605 - val_loss: 1.0569 - val_acc: 0.6051\n",
            "Epoch 60/60\n",
            " 63/287 [=====>........................] - ETA: 12s - loss: 0.9258 - acc: 0.6506"
          ],
          "name": "stdout"
        },
        {
          "output_type": "stream",
          "text": [
            "287/287 [==============================] - 19s 65ms/step - loss: 0.9238 - acc: 0.6548 - val_loss: 1.0659 - val_acc: 0.5929\n"
          ],
          "name": "stdout"
        }
      ]
    },
    {
      "metadata": {
        "id": "ZYy57ASZY_2v",
        "colab_type": "code",
        "colab": {
          "autoexec": {
            "startup": false,
            "wait_interval": 0
          },
          "base_uri": "https://localhost:8080/",
          "height": 347
        },
        "outputId": "662e24a5-3dbf-493c-b3e6-1b62a70275d9",
        "executionInfo": {
          "status": "ok",
          "timestamp": 1529016223262,
          "user_tz": -330,
          "elapsed": 1734,
          "user": {
            "displayName": "ayush gupta",
            "photoUrl": "//lh5.googleusercontent.com/-SmYRJDgC_jI/AAAAAAAAAAI/AAAAAAAACvk/Iqu4XSMC0tM/s50-c-k-no/photo.jpg",
            "userId": "107111856202799795670"
          }
        }
      },
      "cell_type": "code",
      "source": [
        "# Plot the loss and accuracy curves for training and validation on new_model\n",
        "fig, ax = plt.subplots(2,1)\n",
        "ax[0].plot(history.history['loss'], color='b', label=\"Training loss\")\n",
        "ax[0].plot(history.history['val_loss'], color='r', label=\"validation loss\",axes =ax[0])\n",
        "legend = ax[0].legend(loc='best', shadow=True)\n",
        "\n",
        "ax[1].plot(history.history['acc'], color='b', label=\"Training accuracy\")\n",
        "ax[1].plot(history.history['val_acc'], color='r',label=\"Validation accuracy\")\n",
        "legend = ax[1].legend(loc='best', shadow=True)"
      ],
      "execution_count": 28,
      "outputs": [
        {
          "output_type": "display_data",
          "data": {
            "image/png": "[encoded data removed]",
            "text/plain": [
              "<matplotlib.figure.Figure at 0x7fde6b2e9cf8>"
            ]
          },
          "metadata": {
            "tags": []
          }
        }
      ]
    },
    {
      "metadata": {
        "id": "gtCpcWYFY_-V",
        "colab_type": "code",
        "colab": {
          "autoexec": {
            "startup": false,
            "wait_interval": 0
          },
          "base_uri": "https://localhost:8080/",
          "height": 35
        },
        "outputId": "69119cae-7879-4a83-bb20-682423a5b679",
        "executionInfo": {
          "status": "ok",
          "timestamp": 1529016237304,
          "user_tz": -330,
          "elapsed": 13946,
          "user": {
            "displayName": "ayush gupta",
            "photoUrl": "//lh5.googleusercontent.com/-SmYRJDgC_jI/AAAAAAAAAAI/AAAAAAAACvk/Iqu4XSMC0tM/s50-c-k-no/photo.jpg",
            "userId": "107111856202799795670"
          }
        }
      },
      "cell_type": "code",
      "source": [
        "new_model.evaluate_generator(train_generator,steps_per_epoch)"
      ],
      "execution_count": 29,
      "outputs": [
        {
          "output_type": "execute_result",
          "data": {
            "text/plain": [
              "[0.7659541260490019, 0.7248780486475715]"
            ]
          },
          "metadata": {
            "tags": []
          },
          "execution_count": 29
        }
      ]
    },
    {
      "metadata": {
        "id": "DvZnKJ6_Y_ww",
        "colab_type": "code",
        "colab": {
          "autoexec": {
            "startup": false,
            "wait_interval": 0
          },
          "base_uri": "https://localhost:8080/",
          "height": 35
        },
        "outputId": "cd73cfe0-ec9c-4962-95dd-b337b14e0419",
        "executionInfo": {
          "status": "ok",
          "timestamp": 1529016240046,
          "user_tz": -330,
          "elapsed": 2730,
          "user": {
            "displayName": "ayush gupta",
            "photoUrl": "//lh5.googleusercontent.com/-SmYRJDgC_jI/AAAAAAAAAAI/AAAAAAAACvk/Iqu4XSMC0tM/s50-c-k-no/photo.jpg",
            "userId": "107111856202799795670"
          }
        }
      },
      "cell_type": "code",
      "source": [
        "new_model.evaluate_generator(validation_generator,validation_steps)"
      ],
      "execution_count": 30,
      "outputs": [
        {
          "output_type": "execute_result",
          "data": {
            "text/plain": [
              "[1.05628958770207, 0.6099999955722264]"
            ]
          },
          "metadata": {
            "tags": []
          },
          "execution_count": 30
        }
      ]
    },
    {
      "metadata": {
        "id": "Tql3D9q1ZHZV",
        "colab_type": "code",
        "colab": {
          "autoexec": {
            "startup": false,
            "wait_interval": 0
          }
        }
      },
      "cell_type": "code",
      "source": [
        "new_model.save('./drive/datasets/facial_recog/facial_recog_model1.h5')"
      ],
      "execution_count": 0,
      "outputs": []
    },
    {
      "metadata": {
        "id": "V1sNHOulMSC4",
        "colab_type": "text"
      },
      "cell_type": "markdown",
      "source": [
        "**You can see that after 20th epoch the model has stopped learning**"
      ]
    }
  ]
}